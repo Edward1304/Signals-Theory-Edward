{
  "nbformat": 4,
  "nbformat_minor": 0,
  "metadata": {
    "colab": {
      "provenance": [],
      "authorship_tag": "ABX9TyP0bn+kwWtWDIN/c5PQQ57l",
      "include_colab_link": true
    },
    "kernelspec": {
      "name": "python3",
      "display_name": "Python 3"
    },
    "language_info": {
      "name": "python"
    }
  },
  "cells": [
    {
      "cell_type": "markdown",
      "metadata": {
        "id": "view-in-github",
        "colab_type": "text"
      },
      "source": [
        "<a href=\"https://colab.research.google.com/github/Edward1304/Signals-Theory-Edward/blob/main/CNN_Prediction_and_detection_(labeled_signals).ipynb\" target=\"_parent\"><img src=\"https://colab.research.google.com/assets/colab-badge.svg\" alt=\"Open In Colab\"/></a>"
      ]
    },
    {
      "cell_type": "code",
      "execution_count": null,
      "metadata": {
        "id": "AjGaUA3Gaflo"
      },
      "outputs": [],
      "source": []
    },
    {
      "cell_type": "markdown",
      "source": [
        "# Red Neuronal Convolucional para  prediccion y deteccion de Señales\n",
        "\n",
        "\n",
        "# Edward Fabian Goyeneche Velandia.\n",
        "\n",
        "# Teoria de Señales"
      ],
      "metadata": {
        "id": "RqE44mPhagKn"
      }
    }
  ]
}