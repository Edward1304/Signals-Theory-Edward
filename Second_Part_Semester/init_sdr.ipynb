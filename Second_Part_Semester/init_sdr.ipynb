{
 "cells": [
  {
   "cell_type": "code",
   "execution_count": 1,
   "metadata": {},
   "outputs": [
    {
     "name": "stdout",
     "output_type": "stream",
     "text": [
      "[ 5.04272970e-03-0.00035159j -2.80110961e-03-0.00035167j\n",
      " -2.80181171e-03-0.00035176j ...  6.40981771e-06+0.00783888j\n",
      " -1.56806640e-02+0.00783941j -7.83832667e-03+0.01568308j]\n"
     ]
    }
   ],
   "source": [
    "import numpy as np\n",
    "from rtlsdr import RtlSdr\n",
    "data = np.load('Samples 88.0 and 108.0MHz with time to read 0.01s and 0MHz overlap.npy')\n",
    "\n",
    "\n",
    "print(data)\n",
    "\n"
   ]
  }
 ],
 "metadata": {
  "kernelspec": {
   "display_name": "Python 3",
   "language": "python",
   "name": "python3"
  },
  "language_info": {
   "codemirror_mode": {
    "name": "ipython",
    "version": 3
   },
   "file_extension": ".py",
   "mimetype": "text/x-python",
   "name": "python",
   "nbconvert_exporter": "python",
   "pygments_lexer": "ipython3",
   "version": "3.12.2"
  }
 },
 "nbformat": 4,
 "nbformat_minor": 2
}
