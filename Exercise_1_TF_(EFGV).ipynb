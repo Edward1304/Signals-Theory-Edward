{
  "cells": [
    {
      "cell_type": "markdown",
      "metadata": {
        "colab_type": "text",
        "id": "view-in-github"
      },
      "source": [
        "<a href=\"https://colab.research.google.com/github/Edward1304/Signals-Theory-Edward/blob/main/Exercise_1_TF_(EFGV).ipynb\" target=\"_parent\"><img src=\"https://colab.research.google.com/assets/colab-badge.svg\" alt=\"Open In Colab\"/></a>"
      ]
    },
    {
      "cell_type": "markdown",
      "metadata": {
        "id": "RL_IQj3SSAv-"
      },
      "source": [
        "# **Edward Fabian Goyeneche Velandia**\n",
        "\n",
        "### Ejercicio 1 Teoria de Señales\n",
        "\n",
        "#1\n",
        "1.  *First part: Create a Python class that takes a xlsx_file and allows me\n",
        "to -->*\n",
        "\n",
        "\n",
        "*   Read data\n",
        "*   return mean of a specific column\n",
        "*   return mode of a specific column\n",
        "*   return median of a specific column\n",
        "\n"
      ]
    },
    {
      "cell_type": "code",
      "execution_count": 2,
      "metadata": {
        "colab": {
          "base_uri": "https://localhost:8080/"
        },
        "id": "2L3Ss1qQDTBD",
        "outputId": "32cefede-b2d6-4ab5-814c-4f6867ddefa2"
      },
      "outputs": [
        {
          "name": "stdout",
          "output_type": "stream",
          "text": [
            "El resultado de la busqueda en el  Libro 1  de la columna  Edad  que se hizo  la operarcion 1 es 19.2\n"
          ]
        }
      ],
      "source": [
        "import pandas as pd\n",
        "\n",
        "# Leer los archivos Excel\n",
        "read_books1 = pd.read_excel('Book1.xlsx')\n",
        "read_books2 = pd.read_excel('Book2.xlsx')\n",
        "\n",
        "#ingresa la informacion para selecctionar los items para operar\n",
        "\n",
        "#ingresa que libro se desea usar\n",
        "selected_book_number = input(\"¿Qué libro quieres usar? Ingresa 1 o 2: \")\n",
        "if selected_book_number == \"1\":\n",
        "    selected_book = read_books1\n",
        "elif selected_book_number == \"2\":\n",
        "    selected_book = read_books2\n",
        "\n",
        "# ingrese el número de la columna a usara\n",
        "selected_column_number = input(\"Qué columna quiere usar Ingresa 1 para Edad, 2 para Peso o 3 para Estatura: \")\n",
        "\n",
        "if selected_column_number == \"1\":\n",
        "    selected_column = \"Edad\"\n",
        "elif selected_column_number == \"2\":\n",
        "    selected_column = \"Peso\"\n",
        "elif selected_column_number == \"3\":\n",
        "    selected_column = \"Estatura\"\n",
        "\n",
        "\n",
        "# Ingrese la operación a realizar\n",
        "selected_operation = input(\" Ingresa 1 para media, 2 para moda o 3 para mediana: \")\n",
        "\n",
        "if selected_operation == \"1\":\n",
        "    result = selected_book[selected_column].mean()\n",
        "elif selected_operation == \"2\":\n",
        "    result = selected_book[selected_column].mode()\n",
        "elif selected_operation == \"3\":\n",
        "    result = selected_book[selected_column].median()\n",
        "\n",
        "#Resultado Final\n",
        "print(\"El resultado de la busqueda en el  Libro\",selected_book_number,\" de la columna \",selected_column, \" que se hizo  la operarcion\",selected_operation,\"es\", result)\n"
      ]
    },
    {
      "cell_type": "markdown",
      "metadata": {
        "id": "-yS-mqcUaIHf"
      },
      "source": [
        "# 2\n",
        "\n",
        "\n",
        "2.   *Second part: Create a 'child' class of type Single inheritence from  the previous class that should take 2 xlsx_files and provides  --> the following set operations on the data in both dataframes:*\n",
        "\n",
        "\n",
        "\n",
        "\n",
        "**A ∪ B**\n",
        "---\n",
        "**A ∩ B**\n",
        "---\n",
        "**A - B**\n",
        "---\n",
        "**B - A**\n",
        "---\n",
        "**A △ B**\n",
        "---"
      ]
    },
    {
      "cell_type": "code",
      "execution_count": null,
      "metadata": {
        "colab": {
          "base_uri": "https://localhost:8080/"
        },
        "id": "p5xB5gEkFVpf",
        "outputId": "05688dad-6652-4ccd-f424-d1f3657b88a6"
      },
      "outputs": [
        {
          "name": "stdout",
          "output_type": "stream",
          "text": [
            "ingrese que columna quiere usar1\n",
            "1\n",
            "La unión entre  libro 1 y 2  en la columna: Edad es : {32, 34, 12, 14, 15, 53, 23}\n",
            "La intersección entre  libro 1 y 2  en la columna: Edad es : {32, 12, 23}\n",
            "La diferencia entre entre  libro 1 y 2  en la columna: Edad es : {14, 15}\n",
            "La diferencia entre entre  libro 1 y 2  en la columna: Edad es : {34, 53}\n",
            "La diferencia geométrica entre libro 1 y 2 en la columna Edad es : [14 15]\n"
          ]
        }
      ],
      "source": [
        "import numpy as np\n",
        "\n",
        "#ingresa que columna de los 2 libros se quiere usar\n",
        "print(int(input(\"ingrese que columna quiere usar\")))\n",
        "\n",
        "if selected_column == \"Edad\":\n",
        "    column = \"Edad\"\n",
        "elif selected_column == \"Peso\":\n",
        "    column = \"Peso\"\n",
        "elif selected_column == \"Estatura\":\n",
        "    column = \"Estatura\"\n",
        "else:\n",
        "    column = None\n",
        "#lee la columa de los libris\n",
        "column_books1 = read_books1[column]\n",
        "column_books2 = read_books2[column]\n",
        "\n",
        "array_book1 = np.array(column_books1)\n",
        "array_book2 = np.array(column_books2)\n",
        "\n",
        "# Union enre A U B\n",
        "union = set(column_books1) | set(column_books2)\n",
        "print(\"La unión entre  libro 1 y 2  en la columna:\",column,\"es :\",union)\n",
        "\n",
        "#interseccion A n  B\n",
        "intersection = set(column_books1) & set(column_books2)\n",
        "print(\"La intersección entre  libro 1 y 2  en la columna:\",column,\"es :\",intersection)\n",
        "\n",
        "#diferecncia entre A - B\n",
        "difference= set(column_books1) - set(column_books2)\n",
        "print(\"La diferencia entre entre  libro 1 y 2  en la columna:\",column,\"es :\",difference)\n",
        "\n",
        "#Diferencia  entre B-A\n",
        "inverse_diference = set(column_books2) - set(column_books1)\n",
        "print(\"La diferencia entre entre  libro 2 y 1  en la columna:\",column,\"es :\",inverse_diference)\n",
        "#Diferencia Geometrica  A ^ b\n",
        "geometric_difference = np.setdiff1d(array_book1 ,array_book2)\n",
        "print(\"La diferencia geométrica entre libro 1 y 2 en la columna\",column,\"es :\", geometric_difference)\n",
        "\n",
        "#Diferencia Geometrica  B ^ A\n",
        "inverse_geometric_difference= np.setdiff1d(array_book2, array_book1)\n",
        "print(\"La diferencia geométrica entre libro 2 y 1 en la columna\",column,\"es :\", geometric_difference)\n"
      ]
    }
  ],
  "metadata": {
    "colab": {
      "authorship_tag": "ABX9TyNWNTWnwK8ikjfwCrk0GxFE",
      "include_colab_link": true,
      "provenance": [],
      "toc_visible": true
    },
    "kernelspec": {
      "display_name": "Python 3",
      "name": "python3"
    },
    "language_info": {
      "codemirror_mode": {
        "name": "ipython",
        "version": 3
      },
      "file_extension": ".py",
      "mimetype": "text/x-python",
      "name": "python",
      "nbconvert_exporter": "python",
      "pygments_lexer": "ipython3",
      "version": "3.10.11"
    }
  },
  "nbformat": 4,
  "nbformat_minor": 0
}
