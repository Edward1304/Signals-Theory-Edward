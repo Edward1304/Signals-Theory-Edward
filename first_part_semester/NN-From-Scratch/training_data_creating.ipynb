{
 "cells": [
  {
   "cell_type": "markdown",
   "metadata": {},
   "source": [
    "# Datos de entrenamiento\n",
    "\n",
    "\n",
    "Se realizara las extraccion  del espectro de potencia y frecuencia de algunos audios y formarlos como dataframe"
   ]
  },
  {
   "cell_type": "code",
   "execution_count": 1,
   "metadata": {},
   "outputs": [],
   "source": [
    "import pandas as pd\n",
    "import numpy as np\n"
   ]
  },
  {
   "cell_type": "code",
   "execution_count": 29,
   "metadata": {},
   "outputs": [
    {
     "name": "stdout",
     "output_type": "stream",
     "text": [
      "[[0.49714923 0.07071888 0.54228618 ... 0.9887735  0.89385675 0.54866582]\n",
      " [0.86640162 0.00908797 0.83868121 ... 0.32930103 0.25341589 0.67459169]\n",
      " [0.22443899 0.91123209 0.04695618 ... 0.14514768 0.97999136 0.30660133]\n",
      " ...\n",
      " [0.9789194  0.58411103 0.11682419 ... 0.81366277 0.72610172 0.69740001]\n",
      " [0.02698505 0.29918322 0.64496077 ... 0.846831   0.31892936 0.81337533]\n",
      " [0.78263018 0.20406589 0.96508075 ... 0.4043187  0.76979663 0.67339825]]\n"
     ]
    }
   ],
   "source": [
    "import numpy as np\n",
    "\n",
    "# Define the number of training samples\n",
    "num_samples = 100\n",
    "\n",
    "# Generate random signal values\n",
    "signal_values = np.random.rand(num_samples)\n",
    "\n",
    "# Generate random power spectra\n",
    "power_spectra = np.random.rand(num_samples, 1025)\n",
    "\n",
    "\n",
    "# Create the training data array\n",
    "data = np.column_stack((signal_values, power_spectra))\n",
    "\n",
    "\n",
    "print(data)"
   ]
  }
 ],
 "metadata": {
  "kernelspec": {
   "display_name": "Python 3",
   "language": "python",
   "name": "python3"
  },
  "language_info": {
   "codemirror_mode": {
    "name": "ipython",
    "version": 3
   },
   "file_extension": ".py",
   "mimetype": "text/x-python",
   "name": "python",
   "nbconvert_exporter": "python",
   "pygments_lexer": "ipython3",
   "version": "3.10.13"
  }
 },
 "nbformat": 4,
 "nbformat_minor": 2
}
